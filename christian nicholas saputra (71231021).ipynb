{
 "cells": [
  {
   "cell_type": "markdown",
   "id": "b191b837",
   "metadata": {},
   "source": [
    "latihan mandiri 1"
   ]
  },
  {
   "cell_type": "code",
   "execution_count": 12,
   "id": "aa0805ad",
   "metadata": {},
   "outputs": [
    {
     "name": "stdout",
     "output_type": "stream",
     "text": [
      "True\n",
      "True\n",
      "False\n"
     ]
    }
   ],
   "source": [
    "def cek_angka(a,b,c):\n",
    "    # !(tidak) maka != tidak sama dengan\n",
    "    if (a != b and a != c and b != c) and (a + b == c or a + c == b or b + c == a):\n",
    "        return True\n",
    "    else:\n",
    "        return False\n",
    "\n",
    "print(cek_angka(5,4,9)) # True\n",
    "print(cek_angka(11,5,6)) # True\n",
    "print(cek_angka(5,5,9)) # False"
   ]
  },
  {
   "cell_type": "markdown",
   "id": "f31bade3",
   "metadata": {},
   "source": [
    "latihan mandiri 2"
   ]
  },
  {
   "cell_type": "code",
   "execution_count": 2,
   "id": "7142157d",
   "metadata": {},
   "outputs": [
    {
     "name": "stdout",
     "output_type": "stream",
     "text": [
      "True\n",
      "True\n",
      "False\n",
      "True\n",
      "False\n"
     ]
    }
   ],
   "source": [
    "def cek_digit_belakang(a,b,c):\n",
    "        # untuk menyamakan angka belakang\n",
    "        if a % 10 == b %10 or a % 10 == c % 10 or b % 10 == c %10:\n",
    "            return True\n",
    "        # selain dari yang di atas\n",
    "        else:\n",
    "            return False\n",
    "\n",
    "\n",
    "print(cek_digit_belakang(30,20,18)) # True\n",
    "print(cek_digit_belakang(145, 5, 100)) # True\n",
    "print(cek_digit_belakang(71, 187, 18)) # False\n",
    "print(cek_digit_belakang(1024, 14, 94)) # True\n",
    "print(cek_digit_belakang(53, 8900, 658)) # False"
   ]
  },
  {
   "cell_type": "markdown",
   "id": "2647258d",
   "metadata": {},
   "source": [
    "latihan mandiri 3"
   ]
  },
  {
   "cell_type": "code",
   "execution_count": 1,
   "id": "36b19e88",
   "metadata": {},
   "outputs": [
    {
     "name": "stdout",
     "output_type": "stream",
     "text": [
      "F 212.0\n",
      "R 64.0\n",
      "F 32.0\n"
     ]
    }
   ],
   "source": [
    "# fahrenheit = Rumus konversi celcius ke fahrenhei\n",
    "fahrenheit = lambda celcius: (9/5) * celcius +32\n",
    "\n",
    "# reamur = rumus konversi celcius ke reamur\n",
    "reamur = lambda C_to_R: 0.8*C_to_R\n",
    "\n",
    "\n",
    "# print output fahrenheit\n",
    "print(\"F\",fahrenheit(100)) # 212\n",
    "\n",
    "# print output reamur\n",
    "print(\"R\",reamur(80)) # 64\n",
    "\n",
    "# print output fahrenheit\n",
    "print(\"F\", fahrenheit(0))"
   ]
  }
 ],
 "metadata": {
  "kernelspec": {
   "display_name": "Python 3",
   "language": "python",
   "name": "python3"
  },
  "language_info": {
   "codemirror_mode": {
    "name": "ipython",
    "version": 3
   },
   "file_extension": ".py",
   "mimetype": "text/x-python",
   "name": "python",
   "nbconvert_exporter": "python",
   "pygments_lexer": "ipython3",
   "version": "3.12.1"
  }
 },
 "nbformat": 4,
 "nbformat_minor": 5
}
